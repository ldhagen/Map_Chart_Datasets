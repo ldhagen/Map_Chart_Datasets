{
 "cells": [
  {
   "cell_type": "code",
   "execution_count": null,
   "id": "42b60fda-5734-417f-8659-9b65e43e17d3",
   "metadata": {},
   "outputs": [],
   "source": [
    "import pickle\n",
    "import pandas as pd"
   ]
  },
  {
   "cell_type": "code",
   "execution_count": null,
   "id": "271eb859-4fea-4bb3-af09-3495340abf94",
   "metadata": {},
   "outputs": [],
   "source": [
    "headers = [\n",
    "    \"Taxpayer_Number\", \"Taxpayer_Name\", \"Taxpayer_Address\", \"Taxpayer_City\", \"Taxpayer_State\",\n",
    "    \"Taxpayer_Zip\", \"Taxpayer_County\", \"Taxpayer_Phone\", \"Location_Number\", \"Location_Name\",\n",
    "    \"Location_Address\", \"Location_City\", \"Location_State\", \"Location_Zip\", \"Location_County\",\n",
    "    \"Location_Phone\", \"Unit_Capacity\", \"Responsibility_Begin_Date\", \"Responsibility_End_Date\",\n",
    "    \"Obligation_End_Date\", \"Filer_Type\", \"Total_Room_Receipts\", \"Taxable_Receipts\"\n",
    "]\n",
    "\n"
   ]
  },
  {
   "cell_type": "code",
   "execution_count": null,
   "id": "a27429d9-66fd-44d8-a759-e04f3d9a8a61",
   "metadata": {},
   "outputs": [],
   "source": [
    "df = pd.read_csv(r'HOT2405.csv', low_memory=False, on_bad_lines='skip', encoding=\"latin-1\", names=headers, header=0)"
   ]
  },
  {
   "cell_type": "code",
   "execution_count": null,
   "id": "dac0dc61-c6a4-4e52-8395-31946b468333",
   "metadata": {},
   "outputs": [],
   "source": [
    "# Convert date columns to datetime\n",
    "df[\"Responsibility_Begin_Date\"] = pd.to_datetime(df[\"Responsibility_Begin_Date\"], format=\"%Y%m%d\", errors=\"coerce\")\n",
    "df[\"Responsibility_End_Date\"] = pd.to_datetime(df[\"Responsibility_End_Date\"], format=\"%Y%m%d\", errors=\"coerce\")\n",
    "df[\"Obligation_End_Date\"] = pd.to_datetime(df[\"Obligation_End_Date\"], format=\"%Y%m%d\", errors=\"coerce\")\n",
    "\n",
    "# Optional: Check the result\n",
    "print(df[[\"Responsibility_Begin_Date\", \"Responsibility_End_Date\", \"Obligation_End_Date\"]].head())\n"
   ]
  },
  {
   "cell_type": "code",
   "execution_count": null,
   "id": "0cfbca5b-7d3e-45a0-8074-f92aa6b6a73e",
   "metadata": {},
   "outputs": [],
   "source": [
    "pd.set_option('display.max_rows', None)\n",
    "pd.set_option('display.max_columns', None)"
   ]
  },
  {
   "cell_type": "code",
   "execution_count": null,
   "id": "ab402117-0471-43f7-8624-bce6a3fa6183",
   "metadata": {},
   "outputs": [],
   "source": [
    "df.info()"
   ]
  },
  {
   "cell_type": "code",
   "execution_count": null,
   "id": "0a9a0951-9703-424b-9042-5a869dd7ab78",
   "metadata": {},
   "outputs": [],
   "source": [
    "df.head()"
   ]
  },
  {
   "cell_type": "code",
   "execution_count": null,
   "id": "cc9f5dda-03a2-453a-9239-553862ce8d17",
   "metadata": {
    "scrolled": true
   },
   "outputs": [],
   "source": [
    "df.Location_City.unique()"
   ]
  },
  {
   "cell_type": "code",
   "execution_count": null,
   "id": "ac4650cc-a339-4b58-af52-e8cb97217ae3",
   "metadata": {},
   "outputs": [],
   "source": [
    "df[df.Location_City.str.contains('SAN ANTONIO')]['Location_County'].unique()"
   ]
  },
  {
   "cell_type": "code",
   "execution_count": null,
   "id": "92425e88-7a41-4049-983a-6e564d896d78",
   "metadata": {},
   "outputs": [],
   "source": [
    "filtered_05_24_Bexar = df[df.Location_County == '015']"
   ]
  },
  {
   "cell_type": "code",
   "execution_count": null,
   "id": "a90e6525-ff27-49ec-9943-b226d85c6fd2",
   "metadata": {},
   "outputs": [],
   "source": [
    "filtered_05_24_Bexar.head()"
   ]
  },
  {
   "cell_type": "code",
   "execution_count": null,
   "id": "4dc931d6-51b9-4d7d-af1a-ec159087200e",
   "metadata": {},
   "outputs": [],
   "source": [
    "# Save the filtered DataFrame to a CSV file\n",
    "filtered_05_24_Bexar.to_csv(\"filtered_BexarMay24_hotel_tax_receipts.csv\", index=False)\n"
   ]
  },
  {
   "cell_type": "code",
   "execution_count": null,
   "id": "4a838968-e39b-4991-9764-456a16b198b3",
   "metadata": {},
   "outputs": [],
   "source": []
  }
 ],
 "metadata": {
  "kernelspec": {
   "display_name": "Python 3 (ipykernel)",
   "language": "python",
   "name": "python3"
  },
  "language_info": {
   "codemirror_mode": {
    "name": "ipython",
    "version": 3
   },
   "file_extension": ".py",
   "mimetype": "text/x-python",
   "name": "python",
   "nbconvert_exporter": "python",
   "pygments_lexer": "ipython3",
   "version": "3.12.3"
  }
 },
 "nbformat": 4,
 "nbformat_minor": 5
}
