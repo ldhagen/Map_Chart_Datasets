{
 "cells": [
  {
   "cell_type": "code",
   "execution_count": null,
   "id": "25916752-656d-4015-80b8-216a9a5ace1f",
   "metadata": {},
   "outputs": [],
   "source": [
    "!pip3 install seaborn"
   ]
  },
  {
   "cell_type": "code",
   "execution_count": null,
   "id": "96f7ff88-5b91-4f74-9702-430833a8874b",
   "metadata": {
    "scrolled": true
   },
   "outputs": [],
   "source": [
    "import pandas as pd\n",
    "import matplotlib.pyplot as plt\n",
    "import seaborn as sns\n",
    "\n",
    "# Load your dataset\n",
    "df = pd.read_csv(\"filtered_hotel_tax_receipts.csv\")\n",
    "\n",
    "# Receipts by property (top 10)\n",
    "top_15 = df.sort_values(\"Total_Room_Receipts\", ascending=False).head(15)\n",
    "plt.figure(figsize=(12, 6))\n",
    "sns.barplot(x=\"Total_Room_Receipts\", y=\"Location_Name\", data=top_15, palette=\"viridis\")\n",
    "plt.title(\"Top 15 Properties by Total Room Receipts\")\n",
    "plt.xlabel(\"Receipts ($)\")\n",
    "plt.ylabel(\"Hotel Name\")\n",
    "plt.tight_layout()\n",
    "plt.show()\n",
    "\n",
    "# Scatter plot: Unit Capacity vs Total Room Receipts\n",
    "plt.figure(figsize=(10, 6))\n",
    "sns.scatterplot(x=\"Unit_Capacity\", y=\"Total_Room_Receipts\", data=df)\n",
    "plt.title(\"Unit Capacity vs Total Room Receipts\")\n",
    "plt.xlabel(\"Unit Capacity\")\n",
    "plt.ylabel(\"Total Room Receipts ($)\")\n",
    "plt.tight_layout()\n",
    "plt.show()\n",
    "\n",
    "# Distribution Plot of Receipts\n",
    "plt.figure(figsize=(10, 6))\n",
    "sns.histplot(df[\"Total_Room_Receipts\"], bins=30, kde=True)\n",
    "plt.title(\"Distribution of Total Room Receipts\")\n",
    "plt.xlabel(\"Receipts ($)\")\n",
    "plt.tight_layout()\n",
    "plt.show()\n"
   ]
  },
  {
   "cell_type": "code",
   "execution_count": null,
   "id": "c74ffb46-fb73-4afa-95fb-9a33f76dd37e",
   "metadata": {},
   "outputs": [],
   "source": [
    "\n",
    "\n",
    "# Distribution Plot of Receipts"
   ]
  },
  {
   "cell_type": "code",
   "execution_count": null,
   "id": "fbc42ed8-98f0-4a3e-94e0-ece6d402adc5",
   "metadata": {},
   "outputs": [],
   "source": [
    "import matplotlib.pyplot as plt\n",
    "\n",
    "# Aggregate receipts by filer type\n",
    "filer_summary = df.groupby(\"Filer_Type\")[[\"Total_Room_Receipts\", \"Taxable_Receipts\"]].sum()\n",
    "\n",
    "# Plot bar chart\n",
    "filer_summary.plot(kind=\"bar\", figsize=(10, 6))\n",
    "plt.title(\"Receipts by Filer Type\")\n",
    "plt.ylabel(\"Receipts ($)\")\n",
    "plt.xlabel(\"Filer Type\")\n",
    "plt.tight_layout()\n",
    "plt.show()\n"
   ]
  },
  {
   "cell_type": "code",
   "execution_count": null,
   "id": "27951a94-49b7-4143-b77d-83fd49759a5c",
   "metadata": {},
   "outputs": [],
   "source": []
  }
 ],
 "metadata": {
  "kernelspec": {
   "display_name": "Python 3 (ipykernel)",
   "language": "python",
   "name": "python3"
  },
  "language_info": {
   "codemirror_mode": {
    "name": "ipython",
    "version": 3
   },
   "file_extension": ".py",
   "mimetype": "text/x-python",
   "name": "python",
   "nbconvert_exporter": "python",
   "pygments_lexer": "ipython3",
   "version": "3.12.3"
  }
 },
 "nbformat": 4,
 "nbformat_minor": 5
}
