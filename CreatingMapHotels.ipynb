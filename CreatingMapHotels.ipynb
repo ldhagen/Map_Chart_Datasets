{
 "cells": [
  {
   "cell_type": "code",
   "execution_count": null,
   "id": "ee859195-3641-4867-8b23-35aeaa93f1bb",
   "metadata": {},
   "outputs": [],
   "source": [
    "!pip3 install geopy"
   ]
  },
  {
   "cell_type": "code",
   "execution_count": 5,
   "id": "93175262-1f0d-4d01-96b2-507f4effc84b",
   "metadata": {},
   "outputs": [],
   "source": [
    "from geopy.geocoders import Nominatim\n",
    "import pandas as pd\n",
    "import time\n",
    "\n",
    "df = pd.read_csv(\"filtered_BexarMay24_hotel_tax_receipts.csv\")\n",
    "geolocator = Nominatim(user_agent=\"tx_hotels_map\")\n",
    "\n",
    "# Function to get coordinates\n",
    "def get_coordinates(row):\n",
    "    full_address = f\"{row['Location_Address']}, {row['Location_City']}, TX {row['Location_Zip']}\"\n",
    "    try:\n",
    "        location = geolocator.geocode(full_address)\n",
    "        time.sleep(1)  # Be kind to the API\n",
    "        if location:\n",
    "            return pd.Series([location.latitude, location.longitude])\n",
    "    except:\n",
    "        return pd.Series([None, None])\n",
    "\n",
    "# Apply to DataFrame\n",
    "df[[\"Latitude\", \"Longitude\"]] = df.apply(get_coordinates, axis=1)\n"
   ]
  },
  {
   "cell_type": "code",
   "execution_count": 3,
   "id": "2db20968-e5dd-4cc3-9c30-3c9d0700bf47",
   "metadata": {},
   "outputs": [
    {
     "name": "stdout",
     "output_type": "stream",
     "text": [
      "<class 'pandas.core.frame.DataFrame'>\n",
      "RangeIndex: 614 entries, 0 to 613\n",
      "Data columns (total 25 columns):\n",
      " #   Column                     Non-Null Count  Dtype  \n",
      "---  ------                     --------------  -----  \n",
      " 0   Taxpayer_Number            614 non-null    int64  \n",
      " 1   Taxpayer_Name              614 non-null    object \n",
      " 2   Taxpayer_Address           614 non-null    object \n",
      " 3   Taxpayer_City              614 non-null    object \n",
      " 4   Taxpayer_State             614 non-null    object \n",
      " 5   Taxpayer_Zip               614 non-null    int64  \n",
      " 6   Taxpayer_County            614 non-null    int64  \n",
      " 7   Taxpayer_Phone             614 non-null    object \n",
      " 8   Location_Number            614 non-null    int64  \n",
      " 9   Location_Name              614 non-null    object \n",
      " 10  Location_Address           614 non-null    object \n",
      " 11  Location_City              614 non-null    object \n",
      " 12  Location_State             614 non-null    object \n",
      " 13  Location_Zip               614 non-null    int64  \n",
      " 14  Location_County            614 non-null    int64  \n",
      " 15  Location_Phone             614 non-null    object \n",
      " 16  Unit_Capacity              614 non-null    int64  \n",
      " 17  Responsibility_Begin_Date  614 non-null    object \n",
      " 18  Responsibility_End_Date    19 non-null     object \n",
      " 19  Obligation_End_Date        614 non-null    object \n",
      " 20  Filer_Type                 614 non-null    int64  \n",
      " 21  Total_Room_Receipts        614 non-null    float64\n",
      " 22  Taxable_Receipts           614 non-null    float64\n",
      " 23  Latitude                   481 non-null    float64\n",
      " 24  Longitude                  481 non-null    float64\n",
      "dtypes: float64(4), int64(8), object(13)\n",
      "memory usage: 120.1+ KB\n"
     ]
    }
   ],
   "source": [
    "df.info()"
   ]
  },
  {
   "cell_type": "code",
   "execution_count": null,
   "id": "e1871737-6ce5-4639-acc7-1f797f33e607",
   "metadata": {},
   "outputs": [],
   "source": [
    "!pip3 install folium"
   ]
  },
  {
   "cell_type": "code",
   "execution_count": 6,
   "id": "bc031d7c-f05d-4ba0-892d-61e9a29aac73",
   "metadata": {},
   "outputs": [],
   "source": [
    "import folium\n",
    "\n",
    "# Create the base map centered on San Antonio\n",
    "hotel_map = folium.Map(location=[29.5187, -98.6047], zoom_start=12)\n",
    "\n",
    "# Normalize receipts to set radius scale\n",
    "min_receipt = df[\"Total_Room_Receipts\"].min()\n",
    "max_receipt = df[\"Total_Room_Receipts\"].max()\n",
    "range_receipt = max_receipt - min_receipt\n",
    "\n",
    "# Add scaled circle markers\n",
    "for _, row in df.dropna(subset=[\"Latitude\", \"Longitude\"]).iterrows():\n",
    "    # Scale radius between 4 and 20\n",
    "    scaled_radius = 4 + 16 * ((row[\"Total_Room_Receipts\"] - min_receipt) / range_receipt)\n",
    "\n",
    "    # Color by receipt amount (simple logic: low = light, high = dark blue)\n",
    "    if row[\"Total_Room_Receipts\"] == 0:\n",
    "        color = \"gray\"\n",
    "    elif row[\"Total_Room_Receipts\"] < 100000:\n",
    "        color = \"lightblue\"\n",
    "    elif row[\"Total_Room_Receipts\"] < 300000:\n",
    "        color = \"blue\"\n",
    "    else:\n",
    "        color = \"darkblue\"\n",
    "\n",
    "    popup_text = f\"\"\"\n",
    "    <b>{row['Location_Name']}</b><br>\n",
    "    Receipts: ${row['Total_Room_Receipts']:,.2f}<br>\n",
    "    Units: {row['Unit_Capacity']}\n",
    "    \"\"\"\n",
    "\n",
    "    folium.CircleMarker(\n",
    "        location=[row[\"Latitude\"], row[\"Longitude\"]],\n",
    "        radius=scaled_radius,\n",
    "        color=color,\n",
    "        fill=True,\n",
    "        fill_color=color,\n",
    "        popup=folium.Popup(popup_text, max_width=300)\n",
    "    ).add_to(hotel_map)\n",
    "\n",
    "# Save the map\n",
    "hotel_map.save(\"Bexar_May24_receipts_scaled_map.html\")\n"
   ]
  },
  {
   "cell_type": "code",
   "execution_count": null,
   "id": "4dc69a9e-3426-4562-bcf5-e9441eff55f3",
   "metadata": {},
   "outputs": [],
   "source": []
  }
 ],
 "metadata": {
  "kernelspec": {
   "display_name": "Python 3 (ipykernel)",
   "language": "python",
   "name": "python3"
  },
  "language_info": {
   "codemirror_mode": {
    "name": "ipython",
    "version": 3
   },
   "file_extension": ".py",
   "mimetype": "text/x-python",
   "name": "python",
   "nbconvert_exporter": "python",
   "pygments_lexer": "ipython3",
   "version": "3.12.3"
  }
 },
 "nbformat": 4,
 "nbformat_minor": 5
}
