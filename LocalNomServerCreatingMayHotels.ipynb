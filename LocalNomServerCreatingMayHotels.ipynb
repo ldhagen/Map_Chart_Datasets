{
 "cells": [
  {
   "cell_type": "code",
   "execution_count": 1,
   "id": "30a194aa-c701-42ce-a766-a68dd2a000c5",
   "metadata": {},
   "outputs": [
    {
     "name": "stdout",
     "output_type": "stream",
     "text": [
      "Requirement already satisfied: geopy in /var/tmp/ldh/virt1/lib/python3.12/site-packages (2.4.1)\n",
      "Requirement already satisfied: geographiclib<3,>=1.52 in /var/tmp/ldh/virt1/lib/python3.12/site-packages (from geopy) (2.0)\n"
     ]
    }
   ],
   "source": [
    "!pip3 install geopy"
   ]
  },
  {
   "cell_type": "code",
   "execution_count": 2,
   "id": "722d42ed-c894-47b2-bd9a-8877a0f57da0",
   "metadata": {},
   "outputs": [
    {
     "name": "stdout",
     "output_type": "stream",
     "text": [
      "total 1452\n",
      "-rw-------  1 lance lance  48657 Jul  8 20:01 nohup.out\n",
      "drwxrwxr-x 10 lance lance   4096 Jul  8 19:59 .\n",
      "-rw-rw-r--  1 lance lance  11483 Jul  8 19:59 LocalNomServerCreatingMayHotels.ipynb\n",
      "-rw-rw-r--  1 lance lance 609474 Jul  8 19:57 Bexar_May25_receipts_scaled_map.html\n",
      "-rw-rw-r--  1 lance lance   3334 Jul  8 19:56 prevBexar_May25_receipts_scaled_map.html\n",
      "drwxrwxr-x  4 lance lance   4096 Jul  8 15:30 Map_Chart_Datasets\n",
      "drwxrwxr-x  2 lance lance   4096 Jul  8 15:20 .ipynb_checkpoints\n",
      "-rw-rw-r--  1 lance lance 609474 Jul  8 15:16 Bexar_May24_receipts_scaled_map.html\n",
      "drwxrwxr-x 25 lance lance   4096 Jul  7 11:29 Learn-Python-by-Building-Data-Science-Applications\n",
      "drwxrwxr-x 11 lance lance   4096 Jul  6 15:26 ..\n",
      "drwxrwxr-x 10 lance lance   4096 Mar 20 22:39 esphome\n",
      "drwxrwxr-x  3 lance lance   4096 Feb 13 14:37 new_esphome_work\n",
      "-rw-rw-r--  1 lance lance   9785 Oct 23  2024 TexasWARNReview.ipynb\n",
      "-rw-rw-r--  1 lance lance 143099 Oct 23  2024 23_Oct_24_Texas_Warn.pkl\n",
      "drwxrwxr-x 20 lance lance   4096 Oct 21  2024 Pandas-Cookbook-Second-Edition\n",
      "drwxrwxr-x  5 lance lance   4096 Sep 28  2024 Prison_Notebook\n",
      "drwxrwxr-x  4 lance lance   4096 Sep 28  2024 Bexar_Records\n",
      "/var/tmp/ldh/repos\n",
      "Tue Jul  8 08:01:17 PM CDT 2025\n"
     ]
    }
   ],
   "source": [
    "!ls -alt\n",
    "!pwd\n",
    "!date"
   ]
  },
  {
   "cell_type": "code",
   "execution_count": 3,
   "id": "3f5ee934-7337-4a67-822f-0a67aceaaad9",
   "metadata": {},
   "outputs": [],
   "source": [
    "from geopy.geocoders import Nominatim\n",
    "from geopy.adapters import AioHTTPAdapter\n",
    "import pandas as pd\n",
    "import time\n",
    "\n",
    "df = pd.read_csv(\"./Map_Chart_Datasets/filtered_BexarMay25_hotel_tax_receipts.csv\")\n",
    "\n",
    "# Point to your local server\n",
    "geolocator = Nominatim(\n",
    "    user_agent=\"tx_hotels_map\",\n",
    "    domain=\"localhost:8080\",\n",
    "    scheme=\"http\"\n",
    ")\n",
    "\n",
    "def get_coordinates(row):\n",
    "    full_address = f\"{row['Location_Address']}, {row['Location_City']}, TX {row['Location_Zip']}\"\n",
    "    try:\n",
    "        location = geolocator.geocode(full_address, timeout=3)\n",
    "#        time.sleep(1)  # Respect rate limits even locally\n",
    "        if location:\n",
    "            return pd.Series([location.latitude, location.longitude])\n",
    "    except Exception as e:\n",
    "        print(f\"Error with address '{full_address}': {e}\")\n",
    "        return pd.Series([None, None])\n",
    "\n",
    "df[[\"Latitude\", \"Longitude\"]] = df.apply(get_coordinates, axis=1)\n"
   ]
  },
  {
   "cell_type": "code",
   "execution_count": 4,
   "id": "c655a37c-4648-4914-a557-4ea00eefc37c",
   "metadata": {},
   "outputs": [
    {
     "name": "stdout",
     "output_type": "stream",
     "text": [
      "<class 'pandas.core.frame.DataFrame'>\n",
      "RangeIndex: 637 entries, 0 to 636\n",
      "Data columns (total 25 columns):\n",
      " #   Column                     Non-Null Count  Dtype  \n",
      "---  ------                     --------------  -----  \n",
      " 0   Taxpayer_Number            637 non-null    int64  \n",
      " 1   Taxpayer_Name              637 non-null    object \n",
      " 2   Taxpayer_Address           637 non-null    object \n",
      " 3   Taxpayer_City              637 non-null    object \n",
      " 4   Taxpayer_State             637 non-null    object \n",
      " 5   Taxpayer_Zip               637 non-null    int64  \n",
      " 6   Taxpayer_County            637 non-null    int64  \n",
      " 7   Taxpayer_Phone             637 non-null    object \n",
      " 8   Location_Number            637 non-null    int64  \n",
      " 9   Location_Name              637 non-null    object \n",
      " 10  Location_Address           637 non-null    object \n",
      " 11  Location_City              637 non-null    object \n",
      " 12  Location_State             637 non-null    object \n",
      " 13  Location_Zip               637 non-null    int64  \n",
      " 14  Location_County            637 non-null    int64  \n",
      " 15  Location_Phone             637 non-null    object \n",
      " 16  Unit_Capacity              637 non-null    int64  \n",
      " 17  Responsibility_Begin_Date  637 non-null    object \n",
      " 18  Responsibility_End_Date    4 non-null      object \n",
      " 19  Obligation_End_Date        637 non-null    object \n",
      " 20  Filer_Type                 637 non-null    int64  \n",
      " 21  Total_Room_Receipts        637 non-null    float64\n",
      " 22  Taxable_Receipts           637 non-null    float64\n",
      " 23  Latitude                   524 non-null    float64\n",
      " 24  Longitude                  524 non-null    float64\n",
      "dtypes: float64(4), int64(8), object(13)\n",
      "memory usage: 124.5+ KB\n"
     ]
    }
   ],
   "source": [
    "df.info()"
   ]
  },
  {
   "cell_type": "code",
   "execution_count": 5,
   "id": "323d9ce4-998e-4b0a-829a-2cca407780ae",
   "metadata": {},
   "outputs": [
    {
     "name": "stdout",
     "output_type": "stream",
     "text": [
      "Requirement already satisfied: folium in /var/tmp/ldh/virt1/lib/python3.12/site-packages (0.20.0)\n",
      "Requirement already satisfied: branca>=0.6.0 in /var/tmp/ldh/virt1/lib/python3.12/site-packages (from folium) (0.8.1)\n",
      "Requirement already satisfied: jinja2>=2.9 in /var/tmp/ldh/virt1/lib/python3.12/site-packages (from folium) (3.1.6)\n",
      "Requirement already satisfied: numpy in /var/tmp/ldh/virt1/lib/python3.12/site-packages (from folium) (2.3.1)\n",
      "Requirement already satisfied: requests in /var/tmp/ldh/virt1/lib/python3.12/site-packages (from folium) (2.32.4)\n",
      "Requirement already satisfied: xyzservices in /var/tmp/ldh/virt1/lib/python3.12/site-packages (from folium) (2025.4.0)\n",
      "Requirement already satisfied: MarkupSafe>=2.0 in /var/tmp/ldh/virt1/lib/python3.12/site-packages (from jinja2>=2.9->folium) (3.0.2)\n",
      "Requirement already satisfied: charset_normalizer<4,>=2 in /var/tmp/ldh/virt1/lib/python3.12/site-packages (from requests->folium) (3.4.2)\n",
      "Requirement already satisfied: idna<4,>=2.5 in /var/tmp/ldh/virt1/lib/python3.12/site-packages (from requests->folium) (3.10)\n",
      "Requirement already satisfied: urllib3<3,>=1.21.1 in /var/tmp/ldh/virt1/lib/python3.12/site-packages (from requests->folium) (2.5.0)\n",
      "Requirement already satisfied: certifi>=2017.4.17 in /var/tmp/ldh/virt1/lib/python3.12/site-packages (from requests->folium) (2025.6.15)\n"
     ]
    }
   ],
   "source": [
    "!pip3 install folium"
   ]
  },
  {
   "cell_type": "code",
   "execution_count": 6,
   "id": "a5f09c4f-d8ed-4a1c-b8b4-0956188efa80",
   "metadata": {},
   "outputs": [
    {
     "name": "stdout",
     "output_type": "stream",
     "text": [
      "Tue Jul  8 08:01:44 PM CDT 2025\n"
     ]
    }
   ],
   "source": [
    "!date"
   ]
  },
  {
   "cell_type": "code",
   "execution_count": 7,
   "id": "a5d46538-129e-4819-88d8-fbbd7a210a63",
   "metadata": {},
   "outputs": [],
   "source": [
    "import folium\n",
    "\n",
    "# Create the base map centered on San Antonio\n",
    "hotel_map = folium.Map(location=[29.5187, -98.6047], zoom_start=12)\n",
    "\n",
    "# Normalize receipts to set radius scale\n",
    "min_receipt = df[\"Total_Room_Receipts\"].min()\n",
    "max_receipt = df[\"Total_Room_Receipts\"].max()\n",
    "range_receipt = max_receipt - min_receipt\n",
    "\n",
    "# Add scaled circle markers\n",
    "for _, row in df.dropna(subset=[\"Latitude\", \"Longitude\"]).iterrows():\n",
    "    # Scale radius between 4 and 20\n",
    "    scaled_radius = 4 + 16 * ((row[\"Total_Room_Receipts\"] - min_receipt) / range_receipt)\n",
    "\n",
    "    # Color by receipt amount (simple logic: low = light, high = dark blue)\n",
    "    if row[\"Total_Room_Receipts\"] == 0:\n",
    "        color = \"gray\"\n",
    "    elif row[\"Total_Room_Receipts\"] < 100000:\n",
    "        color = \"lightblue\"\n",
    "    elif row[\"Total_Room_Receipts\"] < 300000:\n",
    "        color = \"blue\"\n",
    "    else:\n",
    "        color = \"darkblue\"\n",
    "\n",
    "    popup_text = f\"\"\"\n",
    "    <b>{row['Location_Name']}</b><br>\n",
    "    Receipts: ${row['Total_Room_Receipts']:,.2f}<br>\n",
    "    Units: {row['Unit_Capacity']}\n",
    "    \"\"\"\n",
    "\n",
    "    folium.CircleMarker(\n",
    "        location=[row[\"Latitude\"], row[\"Longitude\"]],\n",
    "        radius=scaled_radius,\n",
    "        color=color,\n",
    "        fill=True,\n",
    "        fill_color=color,\n",
    "        popup=folium.Popup(popup_text, max_width=300)\n",
    "    ).add_to(hotel_map)\n",
    "\n",
    "# Save the map\n",
    "hotel_map.save(\"Bexar_May25_receipts_scaled_map_2.html\")\n"
   ]
  },
  {
   "cell_type": "code",
   "execution_count": 8,
   "id": "4ba63722-e3a0-4bc0-882d-47db1fe21069",
   "metadata": {},
   "outputs": [
    {
     "name": "stdout",
     "output_type": "stream",
     "text": [
      "Tue Jul  8 08:01:45 PM CDT 2025\n"
     ]
    }
   ],
   "source": [
    "!date"
   ]
  },
  {
   "cell_type": "code",
   "execution_count": 9,
   "id": "7bdfe5d6-f324-417b-bd10-6467954ac893",
   "metadata": {},
   "outputs": [
    {
     "name": "stdout",
     "output_type": "stream",
     "text": [
      "23_Oct_24_Texas_Warn.pkl\n",
      "Bexar_May24_receipts_scaled_map.html\n",
      "Bexar_May25_receipts_scaled_map_2.html\n",
      "Bexar_May25_receipts_scaled_map.html\n",
      "Bexar_Records\n",
      "esphome\n",
      "Learn-Python-by-Building-Data-Science-Applications\n",
      "LocalNomServerCreatingMayHotels.ipynb\n",
      "Map_Chart_Datasets\n",
      "new_esphome_work\n",
      "nohup.out\n",
      "Pandas-Cookbook-Second-Edition\n",
      "prevBexar_May25_receipts_scaled_map.html\n",
      "Prison_Notebook\n",
      "TexasWARNReview.ipynb\n",
      "/var/tmp/ldh/repos\n"
     ]
    }
   ],
   "source": [
    "!ls\n",
    "!pwd"
   ]
  },
  {
   "cell_type": "code",
   "execution_count": null,
   "id": "e77e49dd-d3a1-4985-93d0-c9c3e45703ed",
   "metadata": {},
   "outputs": [],
   "source": []
  }
 ],
 "metadata": {
  "kernelspec": {
   "display_name": "Python 3 (ipykernel)",
   "language": "python",
   "name": "python3"
  },
  "language_info": {
   "codemirror_mode": {
    "name": "ipython",
    "version": 3
   },
   "file_extension": ".py",
   "mimetype": "text/x-python",
   "name": "python",
   "nbconvert_exporter": "python",
   "pygments_lexer": "ipython3",
   "version": "3.12.3"
  }
 },
 "nbformat": 4,
 "nbformat_minor": 5
}
