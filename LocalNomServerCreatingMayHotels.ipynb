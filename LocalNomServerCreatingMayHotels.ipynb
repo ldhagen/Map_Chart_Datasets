{
 "cells": [
  {
   "cell_type": "code",
   "execution_count": null,
   "id": "30a194aa-c701-42ce-a766-a68dd2a000c5",
   "metadata": {},
   "outputs": [],
   "source": [
    "!pip3 install geopy"
   ]
  },
  {
   "cell_type": "code",
   "execution_count": null,
   "id": "722d42ed-c894-47b2-bd9a-8877a0f57da0",
   "metadata": {},
   "outputs": [],
   "source": [
    "!ls -alt\n",
    "!pwd\n",
    "!date"
   ]
  },
  {
   "cell_type": "code",
   "execution_count": null,
   "id": "3f5ee934-7337-4a67-822f-0a67aceaaad9",
   "metadata": {},
   "outputs": [],
   "source": [
    "from geopy.geocoders import Nominatim\n",
    "from geopy.adapters import AioHTTPAdapter\n",
    "import pandas as pd\n",
    "import time\n",
    "\n",
    "df = pd.read_csv(\"./Map_Chart_Datasets/filtered_BexarMay25_hotel_tax_receipts.csv\")\n",
    "\n",
    "# Point to your local server\n",
    "geolocator = Nominatim(\n",
    "    user_agent=\"tx_hotels_map\",\n",
    "    domain=\"localhost:8080\",\n",
    "    scheme=\"http\"\n",
    ")\n",
    "\n",
    "def get_coordinates(row):\n",
    "    full_address = f\"{row['Location_Address']}, {row['Location_City']}, TX {row['Location_Zip']}\"\n",
    "    try:\n",
    "        location = geolocator.geocode(full_address, timeout=3)\n",
    "#        time.sleep(1)  # Respect rate limits even locally\n",
    "        if location:\n",
    "            return pd.Series([location.latitude, location.longitude])\n",
    "    except Exception as e:\n",
    "        print(f\"Error with address '{full_address}': {e}\")\n",
    "        return pd.Series([None, None])\n",
    "\n",
    "df[[\"Latitude\", \"Longitude\"]] = df.apply(get_coordinates, axis=1)\n"
   ]
  },
  {
   "cell_type": "code",
   "execution_count": null,
   "id": "c655a37c-4648-4914-a557-4ea00eefc37c",
   "metadata": {},
   "outputs": [],
   "source": [
    "df.info()"
   ]
  },
  {
   "cell_type": "code",
   "execution_count": null,
   "id": "323d9ce4-998e-4b0a-829a-2cca407780ae",
   "metadata": {},
   "outputs": [],
   "source": [
    "!pip3 install folium"
   ]
  },
  {
   "cell_type": "code",
   "execution_count": null,
   "id": "a5f09c4f-d8ed-4a1c-b8b4-0956188efa80",
   "metadata": {},
   "outputs": [],
   "source": [
    "!date"
   ]
  },
  {
   "cell_type": "code",
   "execution_count": null,
   "id": "a5d46538-129e-4819-88d8-fbbd7a210a63",
   "metadata": {},
   "outputs": [],
   "source": [
    "import folium\n",
    "\n",
    "# Create the base map centered on San Antonio\n",
    "hotel_map = folium.Map(location=[29.5187, -98.6047], zoom_start=12)\n",
    "\n",
    "# Normalize receipts to set radius scale\n",
    "min_receipt = df[\"Total_Room_Receipts\"].min()\n",
    "max_receipt = df[\"Total_Room_Receipts\"].max()\n",
    "range_receipt = max_receipt - min_receipt\n",
    "\n",
    "# Add scaled circle markers\n",
    "for _, row in df.dropna(subset=[\"Latitude\", \"Longitude\"]).iterrows():\n",
    "    # Scale radius between 4 and 20\n",
    "    scaled_radius = 4 + 16 * ((row[\"Total_Room_Receipts\"] - min_receipt) / range_receipt)\n",
    "\n",
    "    # Color by receipt amount (simple logic: low = light, high = dark blue)\n",
    "    if row[\"Total_Room_Receipts\"] == 0:\n",
    "        color = \"gray\"\n",
    "    elif row[\"Total_Room_Receipts\"] < 100000:\n",
    "        color = \"lightblue\"\n",
    "    elif row[\"Total_Room_Receipts\"] < 300000:\n",
    "        color = \"blue\"\n",
    "    else:\n",
    "        color = \"darkblue\"\n",
    "\n",
    "    popup_text = f\"\"\"\n",
    "    <b>{row['Location_Name']}</b><br>\n",
    "    Receipts: ${row['Total_Room_Receipts']:,.2f}<br>\n",
    "    Units: {row['Unit_Capacity']}\n",
    "    \"\"\"\n",
    "\n",
    "    folium.CircleMarker(\n",
    "        location=[row[\"Latitude\"], row[\"Longitude\"]],\n",
    "        radius=scaled_radius,\n",
    "        color=color,\n",
    "        fill=True,\n",
    "        fill_color=color,\n",
    "        popup=folium.Popup(popup_text, max_width=300)\n",
    "    ).add_to(hotel_map)\n",
    "\n",
    "# Save the map\n",
    "hotel_map.save(\"Bexar_May25_receipts_scaled_map_2.html\")\n"
   ]
  },
  {
   "cell_type": "code",
   "execution_count": null,
   "id": "4ba63722-e3a0-4bc0-882d-47db1fe21069",
   "metadata": {},
   "outputs": [],
   "source": [
    "!date"
   ]
  },
  {
   "cell_type": "code",
   "execution_count": null,
   "id": "7bdfe5d6-f324-417b-bd10-6467954ac893",
   "metadata": {},
   "outputs": [],
   "source": [
    "!ls\n",
    "!pwd"
   ]
  },
  {
   "cell_type": "code",
   "execution_count": null,
   "id": "e77e49dd-d3a1-4985-93d0-c9c3e45703ed",
   "metadata": {},
   "outputs": [],
   "source": []
  }
 ],
 "metadata": {
  "kernelspec": {
   "display_name": "Python 3 (ipykernel)",
   "language": "python",
   "name": "python3"
  },
  "language_info": {
   "codemirror_mode": {
    "name": "ipython",
    "version": 3
   },
   "file_extension": ".py",
   "mimetype": "text/x-python",
   "name": "python",
   "nbconvert_exporter": "python",
   "pygments_lexer": "ipython3",
   "version": "3.12.3"
  }
 },
 "nbformat": 4,
 "nbformat_minor": 5
}
