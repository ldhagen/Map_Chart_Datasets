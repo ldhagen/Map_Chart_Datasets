{
 "cells": [
  {
   "cell_type": "markdown",
   "id": "d8cd849a-a0aa-409f-bce3-eba17d180728",
   "metadata": {},
   "source": [
    "Running a local nominatim server\n",
    "\n",
    "docker run -it -v /var/tmp/ldh/nominatim:/data  -e PBF_PATH=/data/texas-latest.osm.pbf  -p 8080:8080   --name nominatimjyp1 mediagis/nominatim:5.1 \n",
    "\n",
    "http://localhost:8080/search?q=14+Terrace+Pl,+San+Antonio,+TX&format=json"
   ]
  },
  {
   "cell_type": "code",
   "execution_count": null,
   "id": "30a194aa-c701-42ce-a766-a68dd2a000c5",
   "metadata": {},
   "outputs": [],
   "source": [
    "!pip3 install geopy"
   ]
  },
  {
   "cell_type": "code",
   "execution_count": null,
   "id": "6c195516-13d8-48b6-b8de-56e72fe1a1fb",
   "metadata": {},
   "outputs": [],
   "source": [
    "import pickle\n",
    "import pandas as pd"
   ]
  },
  {
   "cell_type": "code",
   "execution_count": null,
   "id": "722d42ed-c894-47b2-bd9a-8877a0f57da0",
   "metadata": {},
   "outputs": [],
   "source": [
    "!date"
   ]
  },
  {
   "cell_type": "code",
   "execution_count": null,
   "id": "34c0fbfa-5215-4cc4-872f-f2d147d212a2",
   "metadata": {},
   "outputs": [],
   "source": [
    "headers = [\n",
    "    \"Taxpayer_Number\", \"Taxpayer_Name\", \"Taxpayer_Address\", \"Taxpayer_City\", \"Taxpayer_State\",\n",
    "    \"Taxpayer_Zip\", \"Taxpayer_County\", \"Taxpayer_Phone\", \"Location_Number\", \"Location_Name\",\n",
    "    \"Location_Address\", \"Location_City\", \"Location_State\", \"Location_Zip\", \"Location_County\",\n",
    "    \"Location_Phone\", \"Unit_Capacity\", \"Responsibility_Begin_Date\", \"Responsibility_End_Date\",\n",
    "    \"Obligation_End_Date\", \"Filer_Type\", \"Total_Room_Receipts\", \"Taxable_Receipts\"\n",
    "]"
   ]
  },
  {
   "cell_type": "code",
   "execution_count": null,
   "id": "f69773ed-b050-4c20-ac64-70060a9d5d2d",
   "metadata": {},
   "outputs": [],
   "source": [
    "df = pd.read_csv(r'./HOT2505.CSV', low_memory=False, on_bad_lines='skip', encoding=\"latin-1\", names=headers, header=0)"
   ]
  },
  {
   "cell_type": "code",
   "execution_count": null,
   "id": "4cc39211-4c78-47aa-b7b5-3f45d255eeb5",
   "metadata": {},
   "outputs": [],
   "source": [
    "!date"
   ]
  },
  {
   "cell_type": "code",
   "execution_count": null,
   "id": "3f5ee934-7337-4a67-822f-0a67aceaaad9",
   "metadata": {},
   "outputs": [],
   "source": [
    "from geopy.geocoders import Nominatim\n",
    "from geopy.adapters import AioHTTPAdapter\n",
    "import pandas as pd\n",
    "import time\n",
    "\n",
    "\n",
    "# Point to your local server\n",
    "geolocator = Nominatim(\n",
    "    user_agent=\"tx_hotels_map\",\n",
    "    domain=\"localhost:8080\",\n",
    "    scheme=\"http\"\n",
    ")\n",
    "\n",
    "def get_coordinates(row):\n",
    "    full_address = f\"{row['Location_Address']}, {row['Location_City']}, TX {row['Location_Zip']}\"\n",
    "    try:\n",
    "        location = geolocator.geocode(full_address, timeout=3)\n",
    "#        time.sleep(1)  # Respect rate limits even locally\n",
    "        if location:\n",
    "            return pd.Series([location.latitude, location.longitude])\n",
    "    except Exception as e:\n",
    "        print(f\"Error with address '{full_address}': {e}\")\n",
    "        return pd.Series([None, None])\n",
    "\n",
    "df[[\"Latitude\", \"Longitude\"]] = df.apply(get_coordinates, axis=1)\n"
   ]
  },
  {
   "cell_type": "code",
   "execution_count": null,
   "id": "d24e6b56-06f1-4c1b-a83e-16085da9422f",
   "metadata": {},
   "outputs": [],
   "source": [
    "!date"
   ]
  },
  {
   "cell_type": "code",
   "execution_count": null,
   "id": "a942c5b4-a18c-4a65-bfd5-74f9462431bd",
   "metadata": {},
   "outputs": [],
   "source": [
    "df.info()"
   ]
  },
  {
   "cell_type": "code",
   "execution_count": null,
   "id": "4db246c0-5a71-4de0-97ec-f6f2428f3bbb",
   "metadata": {},
   "outputs": [],
   "source": [
    "with open(r'fullState2025.pkl','wb') as ofile:\n",
    "    pickle.dump(df, ofile)"
   ]
  },
  {
   "cell_type": "code",
   "execution_count": null,
   "id": "0fa91dc0-01e0-42f4-a860-a65197e55a85",
   "metadata": {},
   "outputs": [],
   "source": [
    "with open(r'fullState2024.pkl','rb') as ifile:\n",
    "    df = pickle.load(ifile)"
   ]
  },
  {
   "cell_type": "code",
   "execution_count": null,
   "id": "9aff76ba-474b-4299-a3cc-7c8a78afe023",
   "metadata": {},
   "outputs": [],
   "source": [
    "!date"
   ]
  },
  {
   "cell_type": "code",
   "execution_count": null,
   "id": "c655a37c-4648-4914-a557-4ea00eefc37c",
   "metadata": {},
   "outputs": [],
   "source": [
    "df.info()"
   ]
  },
  {
   "cell_type": "code",
   "execution_count": null,
   "id": "323d9ce4-998e-4b0a-829a-2cca407780ae",
   "metadata": {},
   "outputs": [],
   "source": [
    "!pip3 install folium"
   ]
  },
  {
   "cell_type": "code",
   "execution_count": null,
   "id": "a5f09c4f-d8ed-4a1c-b8b4-0956188efa80",
   "metadata": {},
   "outputs": [],
   "source": [
    "!date"
   ]
  },
  {
   "cell_type": "code",
   "execution_count": null,
   "id": "a5d46538-129e-4819-88d8-fbbd7a210a63",
   "metadata": {},
   "outputs": [],
   "source": [
    "import folium\n",
    "\n",
    "# Create the base map centered on San Antonio\n",
    "hotel_map = folium.Map(location=[29.5187, -98.6047], zoom_start=12)\n",
    "\n",
    "# Normalize receipts to set radius scale\n",
    "min_receipt = df[\"Total_Room_Receipts\"].min()\n",
    "max_receipt = df[\"Total_Room_Receipts\"].max()\n",
    "range_receipt = max_receipt - min_receipt\n",
    "\n",
    "# Add scaled circle markers\n",
    "for _, row in df.dropna(subset=[\"Latitude\", \"Longitude\"]).iterrows():\n",
    "    # Scale radius between 4 and 20\n",
    "    scaled_radius = 4 + 16 * ((row[\"Total_Room_Receipts\"] - min_receipt) / range_receipt)\n",
    "\n",
    "    # Color by receipt amount (simple logic: low = light, high = dark blue)\n",
    "    if row[\"Total_Room_Receipts\"] == 0:\n",
    "        color = \"gray\"\n",
    "    elif row[\"Total_Room_Receipts\"] < 100000:\n",
    "        color = \"lightblue\"\n",
    "    elif row[\"Total_Room_Receipts\"] < 300000:\n",
    "        color = \"blue\"\n",
    "    else:\n",
    "        color = \"darkblue\"\n",
    "\n",
    "    popup_text = f\"\"\"\n",
    "    <b>{row['Location_Name']}</b><br>\n",
    "    Receipts: ${row['Total_Room_Receipts']:,.2f}<br>\n",
    "    Units: {row['Unit_Capacity']}\n",
    "    \"\"\"\n",
    "\n",
    "    folium.CircleMarker(\n",
    "        location=[row[\"Latitude\"], row[\"Longitude\"]],\n",
    "        radius=scaled_radius,\n",
    "        color=color,\n",
    "        fill=True,\n",
    "        fill_color=color,\n",
    "        popup=folium.Popup(popup_text, max_width=300)\n",
    "    ).add_to(hotel_map)\n",
    "\n",
    "# Save the map\n",
    "hotel_map.save(\"Texas_May24_receipts_scaled_map_3.html\")\n"
   ]
  },
  {
   "cell_type": "code",
   "execution_count": null,
   "id": "4ba63722-e3a0-4bc0-882d-47db1fe21069",
   "metadata": {},
   "outputs": [],
   "source": [
    "!date"
   ]
  },
  {
   "cell_type": "code",
   "execution_count": null,
   "id": "7bdfe5d6-f324-417b-bd10-6467954ac893",
   "metadata": {},
   "outputs": [],
   "source": [
    "!ls\n",
    "!pwd"
   ]
  },
  {
   "cell_type": "code",
   "execution_count": null,
   "id": "e77e49dd-d3a1-4985-93d0-c9c3e45703ed",
   "metadata": {},
   "outputs": [],
   "source": []
  }
 ],
 "metadata": {
  "kernelspec": {
   "display_name": "Python 3 (ipykernel)",
   "language": "python",
   "name": "python3"
  },
  "language_info": {
   "codemirror_mode": {
    "name": "ipython",
    "version": 3
   },
   "file_extension": ".py",
   "mimetype": "text/x-python",
   "name": "python",
   "nbconvert_exporter": "python",
   "pygments_lexer": "ipython3",
   "version": "3.12.3"
  }
 },
 "nbformat": 4,
 "nbformat_minor": 5
}
